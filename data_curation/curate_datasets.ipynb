{
 "cells": [
  {
   "cell_type": "markdown",
   "id": "16116dec-430a-4f04-9bc7-3a8e6a2a0e55",
   "metadata": {},
   "source": [
    "# Curate UAS Risk Analysis Datasets\n",
    "Datasets involved in analyzing risk for Unmanned Aircraft System (UAS) sightings are as follows:\n",
    "1) UAS Sightings Reports\n",
    "2) Flight Logs for Spatiotemporal Analysis\n",
    "3) UAS Facility Map (UASFM) Grid Files for Geospatial Analysis\n",
    "\n",
    "As these datasets are retrieved, they will be curated and fused together and uploaded to the cloud for analysis (e.g., via pyspark)"
   ]
  },
  {
   "cell_type": "markdown",
   "id": "76c9355b-41e4-4030-8e14-e5139e5f79e6",
   "metadata": {},
   "source": [
    "## Setup"
   ]
  },
  {
   "cell_type": "code",
   "execution_count": 2,
   "id": "be83b573-0ba0-456f-a250-4dcbd70ff126",
   "metadata": {},
   "outputs": [
    {
     "name": "stdout",
     "output_type": "stream",
     "text": [
      "Python 3.12.5\n"
     ]
    }
   ],
   "source": [
    "!python --version"
   ]
  },
  {
   "cell_type": "code",
   "execution_count": 1,
   "id": "d6846241-12a0-40a2-a7ab-32c6ada928e8",
   "metadata": {},
   "outputs": [
    {
     "name": "stdout",
     "output_type": "stream",
     "text": [
      "# Python 3.12.5\n",
      "openpyxl==3.1.5\n"
     ]
    }
   ],
   "source": [
    "!cat requirements.txt"
   ]
  },
  {
   "cell_type": "code",
   "execution_count": 3,
   "id": "f235735e-a5f7-49a7-b541-e052923d3851",
   "metadata": {},
   "outputs": [],
   "source": [
    "!python -m pip install -q -r requirements.txt"
   ]
  },
  {
   "cell_type": "markdown",
   "id": "14c62e28-6ba1-4789-ab99-5862f14b4b90",
   "metadata": {},
   "source": [
    "### Imports"
   ]
  },
  {
   "cell_type": "code",
   "execution_count": 1,
   "id": "d346fa6d-57ae-458e-8c00-4738ef61ed67",
   "metadata": {},
   "outputs": [
    {
     "name": "stderr",
     "output_type": "stream",
     "text": [
      "[nltk_data] Downloading package stopwords to /home/ballen/nltk_data...\n",
      "[nltk_data]   Package stopwords is already up-to-date!\n",
      "[nltk_data] Downloading package punkt to /home/ballen/nltk_data...\n",
      "[nltk_data]   Package punkt is already up-to-date!\n"
     ]
    }
   ],
   "source": [
    "import openpyxl \n",
    "import csv \n",
    "import pandas as pd\n",
    "import os\n",
    "from glob import glob\n",
    "from tqdm import tqdm\n",
    "from zipfile import ZipFile\n",
    "from uas_risk_analysis_packages.ml import functions as F"
   ]
  },
  {
   "cell_type": "markdown",
   "id": "b2cafd09-daab-497e-b34b-fc6178836b19",
   "metadata": {},
   "source": [
    "### Configurations"
   ]
  },
  {
   "cell_type": "code",
   "execution_count": 2,
   "id": "5ecf5713-5bc7-4628-838f-499d58168f95",
   "metadata": {},
   "outputs": [],
   "source": [
    "DATASETS_DIR = 'datasets'\n",
    "TEMPLATES_DIR = 'templates'"
   ]
  },
  {
   "cell_type": "markdown",
   "id": "1f331334-2069-4c8d-9656-1c5fcb4566e8",
   "metadata": {},
   "source": [
    "## Curate Datasets\n",
    "**NOTE** Need to manually download the raw `xlsx` data from the FAA site.<br>https://www.faa.gov/uas/resources/public_records/uas_sightings_report\n",
    "\n",
    "Convert raw UAS sightings reports to CSV. Later, the CSV data will be processed by a large language model (LLM) to extract spatiotemporal data (e.g., lat/lon, altitude, time)"
   ]
  },
  {
   "cell_type": "code",
   "execution_count": null,
   "id": "d21fc72c-561c-4e5d-933e-5c72cdbcf97f",
   "metadata": {},
   "outputs": [],
   "source": []
  },
  {
   "cell_type": "markdown",
   "id": "15c2d950-f680-474f-be27-ebc2b89944a8",
   "metadata": {},
   "source": [
    "### UAS Sightings Reports"
   ]
  },
  {
   "cell_type": "code",
   "execution_count": 4,
   "id": "c152e87b-9c37-4275-bfed-7e72ee127c4e",
   "metadata": {
    "scrolled": true
   },
   "outputs": [
    {
     "data": {
      "text/plain": [
       "['datasets/uas_sightings_reports/raw/uas_sightings_report_fy23-q1.xlsx',\n",
       " 'datasets/uas_sightings_reports/raw/UAS_Sightings_report_1Feb-31Mar16.xlsx',\n",
       " 'datasets/uas_sightings_reports/raw/FY2019_Q3_UAS_Sightings.xlsx',\n",
       " 'datasets/uas_sightings_reports/raw/FY2019_Q4_UAS_Sightings.xlsx',\n",
       " 'datasets/uas_sightings_reports/raw/FY2022_Q1_UAS_Sightings.xlsx',\n",
       " 'datasets/uas_sightings_reports/raw/UAS_Sightings_report_1Apr-30Jun16.xlsx',\n",
       " 'datasets/uas_sightings_reports/raw/uas_sightings_report_fy23_q4.xlsx',\n",
       " 'datasets/uas_sightings_reports/raw/FY2021_Q4_UAS_Sightings.xlsx',\n",
       " 'datasets/uas_sightings_reports/raw/FY2018_Q1_UAS_Sightings.xlsx',\n",
       " 'datasets/uas_sightings_reports/raw/FY2019_Q2_UAS_Sightings.xlsx',\n",
       " 'datasets/uas_sightings_reports/raw/UAS_sightings_report_170331.xlsx',\n",
       " 'datasets/uas_sightings_reports/raw/FY2021_Q3_UAS_Sightings.xlsx',\n",
       " 'datasets/uas_sightings_reports/raw/Reported-UAS-Sigihtings-January-March-2022_0.xlsx',\n",
       " 'datasets/uas_sightings_reports/raw/FY2018_Q2_UAS_Sightings.xlsx',\n",
       " 'datasets/uas_sightings_reports/raw/FY2019_Q1_UAS_Sightings.xlsx',\n",
       " 'datasets/uas_sightings_reports/raw/uas_sightings_report_fy24_q2.xlsx',\n",
       " 'datasets/uas_sightings_reports/raw/FY2020_Q3_UAS_Sightings.xlsx',\n",
       " 'datasets/uas_sightings_reports/raw/uas_sightings_report_fy24_q3.xlsx',\n",
       " 'datasets/uas_sightings_reports/raw/UAS_Sightings_report_1Jul-30Sep16.xlsx',\n",
       " 'datasets/uas_sightings_reports/raw/Reported-UAS-Sightings-July-Sept-2022.xlsx',\n",
       " 'datasets/uas_sightings_reports/raw/UAS_Sightings_report_21Aug-31Jan.xlsx',\n",
       " 'datasets/uas_sightings_reports/raw/UAS_sightings_report_Jan_Mar2017.xlsx',\n",
       " 'datasets/uas_sightings_reports/raw/FY2020_Q1_UAS_Sightings.xlsx',\n",
       " 'datasets/uas_sightings_reports/raw/UAS_sightings_report_Apr_Jun2017.xlsx',\n",
       " 'datasets/uas_sightings_reports/raw/FY2020_Q4_UAS_Sightings.xlsx',\n",
       " 'datasets/uas_sightings_reports/raw/uas_sightings_report_fy23-q2.xlsx',\n",
       " 'datasets/uas_sightings_reports/raw/FY2020_Q2_UAS_Sightings.xlsx',\n",
       " 'datasets/uas_sightings_reports/raw/FY2017_Q4_De-identification_Redaction_11192017.xlsx',\n",
       " 'datasets/uas_sightings_reports/raw/FY2021_Q2_UAS_Sightings.xlsx',\n",
       " 'datasets/uas_sightings_reports/raw/FY2018_Q4_UAS_Sightings.xlsx',\n",
       " 'datasets/uas_sightings_reports/raw/Reported-UAS-Sightings-April-June-2022.xlsx',\n",
       " 'datasets/uas_sightings_reports/raw/uas_sightings_report_fy24_q1.xlsx',\n",
       " 'datasets/uas_sightings_reports/raw/FY2021_Q1_UAS_Sightings.xlsx',\n",
       " 'datasets/uas_sightings_reports/raw/FY2018_Q3_UAS_Sightings.xlsx',\n",
       " 'datasets/uas_sightings_reports/raw/uas_sightings_report_fy23-q3.xlsx']"
      ]
     },
     "execution_count": 4,
     "metadata": {},
     "output_type": "execute_result"
    }
   ],
   "source": [
    "uas_sightings_reports_raw_dir = os.path.join(DATASETS_DIR, 'uas_sightings_reports/raw')\n",
    "uas_sightings_reports_paths = glob(os.path.join(uas_sightings_reports_raw_dir, '*.xlsx'))\n",
    "uas_sightings_reports_paths"
   ]
  },
  {
   "cell_type": "code",
   "execution_count": 6,
   "id": "393be544-a9b9-4610-9715-5ab37569dcc9",
   "metadata": {},
   "outputs": [
    {
     "name": "stderr",
     "output_type": "stream",
     "text": [
      "uas_sightings_report_fy23-q3.xlsx: 100%|█████████████████████████████████████████████████████████████████████████████████████████████████████████| 35/35 [00:00<00:00, 177.54it/s]\n"
     ]
    }
   ],
   "source": [
    "uas_sightings_reports_convert_dir = os.path.join(DATASETS_DIR, 'uas_sightings_reports/convert')\n",
    "uas_sightings_reports_convert_paths = []\n",
    "\n",
    "with tqdm(total=len(uas_sightings_reports_paths)) as pbar:\n",
    "    for path in uas_sightings_reports_paths:\n",
    "        pbar.set_description(os.path.basename(path), refresh=True)\n",
    "        pbar.update(1)\n",
    "\n",
    "        # Set output path and make output directory if it doesn't exist yet\n",
    "        outpath = os.path.join(uas_sightings_reports_convert_dir, os.path.splitext(os.path.basename(path))[0] + '.csv')\n",
    "        os.makedirs(os.path.dirname(outpath), exist_ok=True)\n",
    "\n",
    "        if not os.path.exists(outpath):\n",
    "            # Open workbook and select active sheet\n",
    "            workbook = openpyxl.load_workbook(path)\n",
    "            sheet = workbook.active\n",
    "            \n",
    "            # Open the output file for writing and save the active sheet contents to it\n",
    "            with open(outpath, 'w', newline='') as f:\n",
    "                writer = csv.writer(f)\n",
    "        \n",
    "                # Iterate rows in active sheet and write to file\n",
    "                for row in sheet.rows:\n",
    "                    writer.writerow([cell.value for cell in row])\n",
    "        \n",
    "            # print(f'Saved to \"{outpath}\"')\n",
    "        uas_sightings_reports_convert_paths.append(outpath)"
   ]
  },
  {
   "cell_type": "code",
   "execution_count": 7,
   "id": "289e60a5-4a24-49da-ba9a-aea7a9d210e4",
   "metadata": {
    "scrolled": true
   },
   "outputs": [
    {
     "data": {
      "text/plain": [
       "['datasets/uas_sightings_reports/convert/uas_sightings_report_fy23-q1.csv',\n",
       " 'datasets/uas_sightings_reports/convert/UAS_Sightings_report_1Feb-31Mar16.csv',\n",
       " 'datasets/uas_sightings_reports/convert/FY2019_Q3_UAS_Sightings.csv',\n",
       " 'datasets/uas_sightings_reports/convert/FY2019_Q4_UAS_Sightings.csv',\n",
       " 'datasets/uas_sightings_reports/convert/FY2022_Q1_UAS_Sightings.csv',\n",
       " 'datasets/uas_sightings_reports/convert/UAS_Sightings_report_1Apr-30Jun16.csv',\n",
       " 'datasets/uas_sightings_reports/convert/uas_sightings_report_fy23_q4.csv',\n",
       " 'datasets/uas_sightings_reports/convert/FY2021_Q4_UAS_Sightings.csv',\n",
       " 'datasets/uas_sightings_reports/convert/FY2018_Q1_UAS_Sightings.csv',\n",
       " 'datasets/uas_sightings_reports/convert/FY2019_Q2_UAS_Sightings.csv',\n",
       " 'datasets/uas_sightings_reports/convert/UAS_sightings_report_170331.csv',\n",
       " 'datasets/uas_sightings_reports/convert/FY2021_Q3_UAS_Sightings.csv',\n",
       " 'datasets/uas_sightings_reports/convert/Reported-UAS-Sigihtings-January-March-2022_0.csv',\n",
       " 'datasets/uas_sightings_reports/convert/FY2018_Q2_UAS_Sightings.csv',\n",
       " 'datasets/uas_sightings_reports/convert/FY2019_Q1_UAS_Sightings.csv',\n",
       " 'datasets/uas_sightings_reports/convert/uas_sightings_report_fy24_q2.csv',\n",
       " 'datasets/uas_sightings_reports/convert/FY2020_Q3_UAS_Sightings.csv',\n",
       " 'datasets/uas_sightings_reports/convert/uas_sightings_report_fy24_q3.csv',\n",
       " 'datasets/uas_sightings_reports/convert/UAS_Sightings_report_1Jul-30Sep16.csv',\n",
       " 'datasets/uas_sightings_reports/convert/Reported-UAS-Sightings-July-Sept-2022.csv',\n",
       " 'datasets/uas_sightings_reports/convert/UAS_Sightings_report_21Aug-31Jan.csv',\n",
       " 'datasets/uas_sightings_reports/convert/UAS_sightings_report_Jan_Mar2017.csv',\n",
       " 'datasets/uas_sightings_reports/convert/FY2020_Q1_UAS_Sightings.csv',\n",
       " 'datasets/uas_sightings_reports/convert/UAS_sightings_report_Apr_Jun2017.csv',\n",
       " 'datasets/uas_sightings_reports/convert/FY2020_Q4_UAS_Sightings.csv',\n",
       " 'datasets/uas_sightings_reports/convert/uas_sightings_report_fy23-q2.csv',\n",
       " 'datasets/uas_sightings_reports/convert/FY2020_Q2_UAS_Sightings.csv',\n",
       " 'datasets/uas_sightings_reports/convert/FY2017_Q4_De-identification_Redaction_11192017.csv',\n",
       " 'datasets/uas_sightings_reports/convert/FY2021_Q2_UAS_Sightings.csv',\n",
       " 'datasets/uas_sightings_reports/convert/FY2018_Q4_UAS_Sightings.csv',\n",
       " 'datasets/uas_sightings_reports/convert/Reported-UAS-Sightings-April-June-2022.csv',\n",
       " 'datasets/uas_sightings_reports/convert/uas_sightings_report_fy24_q1.csv',\n",
       " 'datasets/uas_sightings_reports/convert/FY2021_Q1_UAS_Sightings.csv',\n",
       " 'datasets/uas_sightings_reports/convert/FY2018_Q3_UAS_Sightings.csv',\n",
       " 'datasets/uas_sightings_reports/convert/uas_sightings_report_fy23-q3.csv']"
      ]
     },
     "execution_count": 7,
     "metadata": {},
     "output_type": "execute_result"
    }
   ],
   "source": [
    "uas_sightings_reports_convert_paths"
   ]
  },
  {
   "cell_type": "code",
   "execution_count": 8,
   "id": "3772f896-f398-4adf-ab1a-40cd536de0c0",
   "metadata": {
    "scrolled": true
   },
   "outputs": [
    {
     "name": "stdout",
     "output_type": "stream",
     "text": [
      "==> datasets/uas_sightings_reports/convert/UAS_sightings_report_Apr_Jun2017.csv <==\n",
      "Date of Sighting,State,City,Summary\n",
      "\n",
      "==> datasets/uas_sightings_reports/convert/uas_sightings_report_fy23-q3.csv <==\n",
      "Date,State,City,Summary\n",
      "\n",
      "==> datasets/uas_sightings_reports/convert/FY2019_Q2_UAS_Sightings.csv <==\n",
      "Date of Sighting,State,City,Summary\n",
      "\n",
      "==> datasets/uas_sightings_reports/convert/Reported-UAS-Sightings-July-Sept-2022.csv <==\n",
      "Date,State,City,Summary\n",
      "\n",
      "==> datasets/uas_sightings_reports/convert/FY2022_Q1_UAS_Sightings.csv <==\n",
      "Day of Sighting,State,City,Summary\n",
      "\n",
      "==> datasets/uas_sightings_reports/convert/uas_sightings_report_fy24_q1.csv <==\n",
      "Date,State,City,Summary\n",
      "\n",
      "==> datasets/uas_sightings_reports/convert/uas_sightings_report_fy24_q2.csv <==\n",
      "Date,State,City,Summary\n",
      "\n",
      "==> datasets/uas_sightings_reports/convert/FY2020_Q3_UAS_Sightings.csv <==\n",
      "Day of Sighting,State,City,Summary\n",
      "\n",
      "==> datasets/uas_sightings_reports/convert/UAS_Sightings_report_21Aug-31Jan.csv <==\n",
      "EventDATETIME,EventREPORTNARRATIVE,LocationCITY,LocationSTATE\n",
      "\n",
      "==> datasets/uas_sightings_reports/convert/uas_sightings_report_fy24_q3.csv <==\n",
      "Date,State,City,Summary\n",
      "\n",
      "==> datasets/uas_sightings_reports/convert/FY2020_Q4_UAS_Sightings.csv <==\n",
      "Day of Sighting,State,City,Summary\n",
      "\n",
      "==> datasets/uas_sightings_reports/convert/FY2019_Q1_UAS_Sightings.csv <==\n",
      "Date of Sighting,State,City,Summary\n",
      "\n",
      "==> datasets/uas_sightings_reports/convert/Reported-UAS-Sightings-April-June-2022.csv <==\n",
      "Day of Sighting,State,City,Summary\n",
      "\n",
      "==> datasets/uas_sightings_reports/convert/FY2020_Q1_UAS_Sightings.csv <==\n",
      "Date of Sighting,State,City,Summary\n",
      "\n",
      "==> datasets/uas_sightings_reports/convert/uas_sightings_report_fy23_q4.csv <==\n",
      "Date,State,City,Summary\n",
      "\n",
      "==> datasets/uas_sightings_reports/convert/FY2020_Q2_UAS_Sightings.csv <==\n",
      "Date of Sighitng,State,City,Summary\n",
      "\n",
      "==> datasets/uas_sightings_reports/convert/uas_sightings_report_fy23-q2.csv <==\n",
      "Date,State,City,Summary,Column1,Column2,Column3,Co ... 6,Column16377,Column16378,Column16379,Column16380\n",
      "\n",
      "==> datasets/uas_sightings_reports/convert/FY2018_Q2_UAS_Sightings.csv <==\n",
      "Date of Sighting,City,State,Summary\n",
      "\n",
      "==> datasets/uas_sightings_reports/convert/uas_sightings_report_fy23-q1.csv <==\n",
      "Date,State,City,Summary,Column1,Column2,Column3,Co ... 6,Column16377,Column16378,Column16379,Column16380\n",
      "\n",
      "==> datasets/uas_sightings_reports/convert/UAS_Sightings_report_1Feb-31Mar16.csv <==\n",
      "Event DATETIME,Description,Location CITY,Location STATE\n",
      "\n",
      "==> datasets/uas_sightings_reports/convert/FY2021_Q1_UAS_Sightings.csv <==\n",
      "Day of Sighting,State,City,Summary\n",
      "\n",
      "==> datasets/uas_sightings_reports/convert/FY2019_Q4_UAS_Sightings.csv <==\n",
      "Date of Sighting,State,City,Summary\n",
      "\n",
      "==> datasets/uas_sightings_reports/convert/FY2021_Q2_UAS_Sightings.csv <==\n",
      "Day of Sighting,State,City,Summary\n",
      "\n",
      "==> datasets/uas_sightings_reports/convert/UAS_sightings_report_170331.csv <==\n",
      "Event Date,CITY,STATE,Event Description,Column1,Column2,Column3,Column4\n",
      "\n",
      "==> datasets/uas_sightings_reports/convert/Reported-UAS-Sigihtings-January-March-2022_0.csv <==\n",
      "Day of Sighting,State,City,Summary\n",
      "\n",
      "==> datasets/uas_sightings_reports/convert/FY2018_Q4_UAS_Sightings.csv <==\n",
      "Date of Sighting,State,City,Summary\n",
      "\n",
      "==> datasets/uas_sightings_reports/convert/FY2017_Q4_De-identification_Redaction_11192017.csv <==\n",
      "Event Date,Event Description,City,State\n",
      "\n",
      "==> datasets/uas_sightings_reports/convert/UAS_sightings_report_Jan_Mar2017.csv <==\n",
      "Date of Sighting,City,State,Summary\n",
      "\n",
      "==> datasets/uas_sightings_reports/convert/FY2018_Q1_UAS_Sightings.csv <==\n",
      "Date of Sighting,City,State,Summary\n",
      "\n",
      "==> datasets/uas_sightings_reports/convert/UAS_Sightings_report_1Apr-30Jun16.csv <==\n",
      "spEventDateTime,spCity,spState,Redacted\n",
      "\n",
      "==> datasets/uas_sightings_reports/convert/FY2018_Q3_UAS_Sightings.csv <==\n",
      "Day of Date of Sighting,State,City,Summary\n",
      "\n",
      "==> datasets/uas_sightings_reports/convert/FY2021_Q4_UAS_Sightings.csv <==\n",
      "Day of Sighting,State,City,Summary\n",
      "\n",
      "==> datasets/uas_sightings_reports/convert/FY2021_Q3_UAS_Sightings.csv <==\n",
      "Day of Sighting,State,City,Summary\n",
      "\n",
      "==> datasets/uas_sightings_reports/convert/UAS_Sightings_report_1Jul-30Sep16.csv <==\n",
      "Event Date & Time,CITY,STATE,Event Description\n",
      "\n",
      "==> datasets/uas_sightings_reports/convert/FY2019_Q3_UAS_Sightings.csv <==\n",
      "Date of Sighting,State,City,Summary\n",
      "\n"
     ]
    }
   ],
   "source": [
    "# Ensure headers are the same for each UAS sightings report (most likely not the case)\n",
    "# Date, State, City, Summary\n",
    "# ==> datasets/uas_sightings_reports/convert/UAS_Sightings_report_21Aug-31Jan.csv <==\n",
    "# EventDATETIME,EventREPORTNARRATIVE,LocationCITY,LocationSTATE\n",
    "\n",
    "# ==> datasets/uas_sightings_reports/convert/UAS_Sightings_report_1Jul-30Sep16.csv <==\n",
    "# Event Date & Time,CITY,STATE,Event Description\n",
    "\n",
    "# ==> datasets/uas_sightings_reports/convert/UAS_sightings_report_170331.csv <==\n",
    "# Event Date,CITY,STATE,Event Description,Column1,Column2,Column3,Column4\n",
    "\n",
    "# ==> datasets/uas_sightings_reports/convert/UAS_Sightings_report_1Apr-30Jun16.csv <==\n",
    "# spEventDateTime,spCity,spState,Redacted\n",
    "\n",
    "# ==> datasets/uas_sightings_reports/convert/UAS_Sightings_report_1Feb-31Mar16.csv <==\n",
    "# Event DATETIME,Description,Location CITY,Location STATE\n",
    "\n",
    "# ==> datasets/uas_sightings_reports/convert/FY2017_Q4_De-identification_Redaction_11192017.csv <==\n",
    "# Event Date,Event Description,City,State\n",
    "\n",
    "# ==> datasets/uas_sightings_reports/convert/FY2018_Q1_UAS_Sightings.csv <==\n",
    "# Date of Sighting,City,State,Summary\n",
    "\n",
    "# ==> datasets/uas_sightings_reports/convert/FY2018_Q2_UAS_Sightings.csv <==\n",
    "# Date of Sighting,City,State,Summary\n",
    "\n",
    "# !head -1 {os.path.join(uas_sightings_reports_convert_dir, '*.csv')}\n",
    "for path in glob(os.path.join(uas_sightings_reports_convert_dir, '*.csv')):\n",
    "    with open(path, 'r') as f:\n",
    "        line = f.readline()\n",
    "        print(f'==> {path} <==')\n",
    "        if len(line) >= 100:\n",
    "            print(line[:50] + ' ... ' + line[-50:])\n",
    "        else:\n",
    "            print(line)"
   ]
  },
  {
   "cell_type": "markdown",
   "id": "b822fecd-6c4a-4528-b7c6-8ed5891ea3ae",
   "metadata": {},
   "source": [
    "We can see there are a lot of discrepancies with the column names. Two of the files, `datasets/uas_sightings_reports/convert/uas_sightings_report_fy23-q1.csv` and `datasets/uas_sightings_reports/convert/uas_sightings_report_fy23-q2.csv`, appear to have a corrupt headers with over 16k columns.\n",
    "\n",
    "The approach for applying a common schema is to define a set of columns that appear to be the most common and map the actual columns to those common columns using similarity checks."
   ]
  },
  {
   "cell_type": "code",
   "execution_count": null,
   "id": "a6ec68a6-8480-470a-a34a-426569a113ae",
   "metadata": {},
   "outputs": [],
   "source": [
    "common_cols = [\n",
    "    'date',\n",
    "    'city',\n",
    "    'state',\n",
    "    'summary',\n",
    "    'narrative',\n",
    "    'description',\n",
    "]"
   ]
  },
  {
   "cell_type": "markdown",
   "id": "e4838eb5-c8d4-473e-9d44-c2989f7b860d",
   "metadata": {},
   "source": [
    "### Flight Logs (OpenSky API)"
   ]
  },
  {
   "cell_type": "code",
   "execution_count": null,
   "id": "4d8f5f28-b3ae-4283-8e4c-f0e362a68a94",
   "metadata": {},
   "outputs": [],
   "source": []
  },
  {
   "cell_type": "markdown",
   "id": "1a69368b-145b-4e9c-abb3-9e2f9aab67e8",
   "metadata": {},
   "source": [
    "### UASFM Grids\n",
    "See: https://uas-faa.opendata.arcgis.com/datasets/faa::faa-uas-facilitymap-data/about"
   ]
  },
  {
   "cell_type": "code",
   "execution_count": 17,
   "id": "04a0aa8e-192c-4b05-a580-19f7fa26c61c",
   "metadata": {},
   "outputs": [],
   "source": [
    "uasfm_grids_dir = os.path.join(DATASETS_DIR, 'uasfm_grids')\n",
    "with ZipFile(os.path.join(uasfm_grids_dir, 'FAA_UAS_FacilityMap_Data.zip')) as zf:\n",
    "    zf.extractall(uasfm_grids_dir)"
   ]
  },
  {
   "cell_type": "code",
   "execution_count": null,
   "id": "cf64e2b0-1469-473a-8d36-13beed4f32d4",
   "metadata": {},
   "outputs": [],
   "source": []
  }
 ],
 "metadata": {
  "kernelspec": {
   "display_name": "Python 3 (ipykernel)",
   "language": "python",
   "name": "python3"
  },
  "language_info": {
   "codemirror_mode": {
    "name": "ipython",
    "version": 3
   },
   "file_extension": ".py",
   "mimetype": "text/x-python",
   "name": "python",
   "nbconvert_exporter": "python",
   "pygments_lexer": "ipython3",
   "version": "3.12.5"
  }
 },
 "nbformat": 4,
 "nbformat_minor": 5
}
