{
 "cells": [
  {
   "cell_type": "markdown",
   "id": "16116dec-430a-4f04-9bc7-3a8e6a2a0e55",
   "metadata": {},
   "source": [
    "# Curate UAS Risk Analysis Datasets\n",
    "Datasets involved in analyzing risk for Unmanned Aircraft System (UAS) sightings are as follows:\n",
    "1) UAS Sightings Reports\n",
    "2) Flight Logs for Spatiotemporal Analysis\n",
    "3) UAS Facility Map (UASFM) Grid Files for Geospatial Analysis\n",
    "\n",
    "As these datasets are retrieved, they will be curated and fused together and uploaded to the cloud for analysis (e.g., via pyspark)"
   ]
  },
  {
   "cell_type": "markdown",
   "id": "76c9355b-41e4-4030-8e14-e5139e5f79e6",
   "metadata": {},
   "source": [
    "## Setup"
   ]
  },
  {
   "cell_type": "code",
   "execution_count": 2,
   "id": "be83b573-0ba0-456f-a250-4dcbd70ff126",
   "metadata": {},
   "outputs": [
    {
     "name": "stdout",
     "output_type": "stream",
     "text": [
      "Python 3.12.5\n"
     ]
    }
   ],
   "source": [
    "!python --version"
   ]
  },
  {
   "cell_type": "code",
   "execution_count": 1,
   "id": "d6846241-12a0-40a2-a7ab-32c6ada928e8",
   "metadata": {},
   "outputs": [
    {
     "name": "stdout",
     "output_type": "stream",
     "text": [
      "# Python 3.12.5\n",
      "openpyxl==3.1.5\n"
     ]
    }
   ],
   "source": [
    "!cat requirements.txt"
   ]
  },
  {
   "cell_type": "code",
   "execution_count": 3,
   "id": "f235735e-a5f7-49a7-b541-e052923d3851",
   "metadata": {},
   "outputs": [],
   "source": [
    "!python -m pip install -q -r requirements.txt"
   ]
  },
  {
   "cell_type": "markdown",
   "id": "14c62e28-6ba1-4789-ab99-5862f14b4b90",
   "metadata": {},
   "source": [
    "### Imports"
   ]
  },
  {
   "cell_type": "code",
   "execution_count": null,
   "id": "d346fa6d-57ae-458e-8c00-4738ef61ed67",
   "metadata": {},
   "outputs": [],
   "source": []
  },
  {
   "cell_type": "markdown",
   "id": "b2cafd09-daab-497e-b34b-fc6178836b19",
   "metadata": {},
   "source": [
    "### Configurations"
   ]
  },
  {
   "cell_type": "code",
   "execution_count": null,
   "id": "5ecf5713-5bc7-4628-838f-499d58168f95",
   "metadata": {},
   "outputs": [],
   "source": []
  },
  {
   "cell_type": "markdown",
   "id": "1f331334-2069-4c8d-9656-1c5fcb4566e8",
   "metadata": {},
   "source": [
    "## Curate Datasets\n",
    "**NOTE** Need to manually download the raw `xlsx` data from the FAA site.<br>https://www.faa.gov/uas/resources/public_records/uas_sightings_report\n",
    "\n",
    "Convert raw UAS sightings reports to CSV. Later, the CSV data will be processed by a large language model (LLM) to extract spatiotemporal data (e.g., lat/lon, altitude, time)"
   ]
  },
  {
   "cell_type": "code",
   "execution_count": null,
   "id": "d21fc72c-561c-4e5d-933e-5c72cdbcf97f",
   "metadata": {},
   "outputs": [],
   "source": []
  },
  {
   "cell_type": "markdown",
   "id": "15c2d950-f680-474f-be27-ebc2b89944a8",
   "metadata": {},
   "source": [
    "### UAS Sightings Reports"
   ]
  },
  {
   "cell_type": "code",
   "execution_count": null,
   "id": "c152e87b-9c37-4275-bfed-7e72ee127c4e",
   "metadata": {},
   "outputs": [],
   "source": []
  },
  {
   "cell_type": "markdown",
   "id": "e4838eb5-c8d4-473e-9d44-c2989f7b860d",
   "metadata": {},
   "source": [
    "### Flight Logs (OpenSky API)"
   ]
  },
  {
   "cell_type": "code",
   "execution_count": null,
   "id": "4d8f5f28-b3ae-4283-8e4c-f0e362a68a94",
   "metadata": {},
   "outputs": [],
   "source": []
  },
  {
   "cell_type": "markdown",
   "id": "1a69368b-145b-4e9c-abb3-9e2f9aab67e8",
   "metadata": {},
   "source": [
    "### UASFM Grids"
   ]
  },
  {
   "cell_type": "code",
   "execution_count": null,
   "id": "04a0aa8e-192c-4b05-a580-19f7fa26c61c",
   "metadata": {},
   "outputs": [],
   "source": []
  }
 ],
 "metadata": {
  "kernelspec": {
   "display_name": "Python 3 (ipykernel)",
   "language": "python",
   "name": "python3"
  },
  "language_info": {
   "codemirror_mode": {
    "name": "ipython",
    "version": 3
   },
   "file_extension": ".py",
   "mimetype": "text/x-python",
   "name": "python",
   "nbconvert_exporter": "python",
   "pygments_lexer": "ipython3",
   "version": "3.12.5"
  }
 },
 "nbformat": 4,
 "nbformat_minor": 5
}
